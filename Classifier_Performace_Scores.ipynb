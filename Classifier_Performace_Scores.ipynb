{
 "cells": [
  {
   "cell_type": "code",
   "execution_count": 1,
   "id": "034d4732",
   "metadata": {},
   "outputs": [],
   "source": [
    "#random comment\n",
    "import pandas as pd\n",
    "import numpy as np\n",
    "from sklearn.metrics import precision_score, recall_score, f1_score"
   ]
  },
  {
   "cell_type": "code",
   "execution_count": null,
   "id": "597ff636",
   "metadata": {},
   "outputs": [],
   "source": [
    "#### STEP 1: ###\n",
    "### Merge the GPT output dataframe and the human coded dataframe #### \n",
    "\n",
    "#Upload the Subset sample\n",
    "df = pd.read_csv(\"/Users/emilymckinley/SICSS_Project/subset.csv\")"
   ]
  },
  {
   "cell_type": "code",
   "execution_count": null,
   "id": "bfb77188",
   "metadata": {},
   "outputs": [],
   "source": [
    "df.head()"
   ]
  },
  {
   "cell_type": "code",
   "execution_count": null,
   "id": "a432d7a2",
   "metadata": {},
   "outputs": [],
   "source": [
    "df.columns"
   ]
  },
  {
   "cell_type": "code",
   "execution_count": null,
   "id": "b07216c5",
   "metadata": {},
   "outputs": [],
   "source": [
    "#Upload the classification results from chat GPT\n",
    "df_2 = pd.read_csv(\"/Users/emilymckinley/SICSS_Project/SICSS-classifier/Vaccine-Politics-100-test-1-gpt-3.5-turbo-0.1-1.csv\")"
   ]
  },
  {
   "cell_type": "code",
   "execution_count": null,
   "id": "f2844154",
   "metadata": {},
   "outputs": [],
   "source": [
    "df_2.head()"
   ]
  },
  {
   "cell_type": "code",
   "execution_count": null,
   "id": "f06b2567",
   "metadata": {},
   "outputs": [],
   "source": [
    "#Rename column if needed\n",
    "#df_2.rename(columns={'id': 'generated_id'}, inplace=True)"
   ]
  },
  {
   "cell_type": "code",
   "execution_count": null,
   "id": "e1ff4605",
   "metadata": {},
   "outputs": [],
   "source": [
    "#Merge subset (human coded) and chat GPT results\n",
    "merged_df = pd.merge(df_2, df, on='generated_id', how='inner')"
   ]
  },
  {
   "cell_type": "code",
   "execution_count": 7,
   "id": "85966f70",
   "metadata": {},
   "outputs": [
    {
     "data": {
      "text/html": [
       "<div>\n",
       "<style scoped>\n",
       "    .dataframe tbody tr th:only-of-type {\n",
       "        vertical-align: middle;\n",
       "    }\n",
       "\n",
       "    .dataframe tbody tr th {\n",
       "        vertical-align: top;\n",
       "    }\n",
       "\n",
       "    .dataframe thead th {\n",
       "        text-align: right;\n",
       "    }\n",
       "</style>\n",
       "<table border=\"1\" class=\"dataframe\">\n",
       "  <thead>\n",
       "    <tr style=\"text-align: right;\">\n",
       "      <th></th>\n",
       "      <th>Vaccine-Political-GPT</th>\n",
       "      <th>text_x</th>\n",
       "      <th>generated_id</th>\n",
       "      <th>Political content</th>\n",
       "    </tr>\n",
       "  </thead>\n",
       "  <tbody>\n",
       "    <tr>\n",
       "      <th>0</th>\n",
       "      <td>0.0</td>\n",
       "      <td>So, I was super confused as to why I got a not...</td>\n",
       "      <td>zXkdHys3og</td>\n",
       "      <td>0.0</td>\n",
       "    </tr>\n",
       "    <tr>\n",
       "      <th>1</th>\n",
       "      <td>0.0</td>\n",
       "      <td>\"Two-jabs\" McCormick at your service. #5gready...</td>\n",
       "      <td>chOTkq5nBv</td>\n",
       "      <td>0.0</td>\n",
       "    </tr>\n",
       "    <tr>\n",
       "      <th>2</th>\n",
       "      <td>0.0</td>\n",
       "      <td>Nanomachines should be active now right? I can...</td>\n",
       "      <td>wawaJFZ51H</td>\n",
       "      <td>0.0</td>\n",
       "    </tr>\n",
       "    <tr>\n",
       "      <th>3</th>\n",
       "      <td>0.0</td>\n",
       "      <td>@AmyFeld Thanks for the encouragement and soli...</td>\n",
       "      <td>qWZWbC4OsX</td>\n",
       "      <td>0.0</td>\n",
       "    </tr>\n",
       "    <tr>\n",
       "      <th>4</th>\n",
       "      <td>1.0</td>\n",
       "      <td>#vaccinated \\n\\nThank you #COVISHIELD \\n\\nThan...</td>\n",
       "      <td>dk2DyN8mEj</td>\n",
       "      <td>0.0</td>\n",
       "    </tr>\n",
       "    <tr>\n",
       "      <th>5</th>\n",
       "      <td>0.0</td>\n",
       "      <td>@krupali Keep up the great work! We're going t...</td>\n",
       "      <td>WgRYCxccG3</td>\n",
       "      <td>0.0</td>\n",
       "    </tr>\n",
       "    <tr>\n",
       "      <th>6</th>\n",
       "      <td>0.0</td>\n",
       "      <td>Got my first shot today and that's the tweet 💉...</td>\n",
       "      <td>p7IczrEDQQ</td>\n",
       "      <td>0.0</td>\n",
       "    </tr>\n",
       "    <tr>\n",
       "      <th>7</th>\n",
       "      <td>0.0</td>\n",
       "      <td>Hearing stories from people who’ve ordered #pr...</td>\n",
       "      <td>zfSv60UWaR</td>\n",
       "      <td>0.0</td>\n",
       "    </tr>\n",
       "    <tr>\n",
       "      <th>8</th>\n",
       "      <td>0.0</td>\n",
       "      <td>I went to a mass vaccination site staffed by t...</td>\n",
       "      <td>ck8mDxjhcn</td>\n",
       "      <td>0.0</td>\n",
       "    </tr>\n",
       "    <tr>\n",
       "      <th>9</th>\n",
       "      <td>0.0</td>\n",
       "      <td>To all my friends I haven't hugged in over a y...</td>\n",
       "      <td>3Rtx9WT5RB</td>\n",
       "      <td>0.0</td>\n",
       "    </tr>\n",
       "  </tbody>\n",
       "</table>\n",
       "</div>"
      ],
      "text/plain": [
       "   Vaccine-Political-GPT                                             text_x  \\\n",
       "0                    0.0  So, I was super confused as to why I got a not...   \n",
       "1                    0.0  \"Two-jabs\" McCormick at your service. #5gready...   \n",
       "2                    0.0  Nanomachines should be active now right? I can...   \n",
       "3                    0.0  @AmyFeld Thanks for the encouragement and soli...   \n",
       "4                    1.0  #vaccinated \\n\\nThank you #COVISHIELD \\n\\nThan...   \n",
       "5                    0.0  @krupali Keep up the great work! We're going t...   \n",
       "6                    0.0  Got my first shot today and that's the tweet 💉...   \n",
       "7                    0.0  Hearing stories from people who’ve ordered #pr...   \n",
       "8                    0.0  I went to a mass vaccination site staffed by t...   \n",
       "9                    0.0  To all my friends I haven't hugged in over a y...   \n",
       "\n",
       "  generated_id  Political content  \n",
       "0   zXkdHys3og                0.0  \n",
       "1   chOTkq5nBv                0.0  \n",
       "2   wawaJFZ51H                0.0  \n",
       "3   qWZWbC4OsX                0.0  \n",
       "4   dk2DyN8mEj                0.0  \n",
       "5   WgRYCxccG3                0.0  \n",
       "6   p7IczrEDQQ                0.0  \n",
       "7   zfSv60UWaR                0.0  \n",
       "8   ck8mDxjhcn                0.0  \n",
       "9   3Rtx9WT5RB                0.0  "
      ]
     },
     "execution_count": 7,
     "metadata": {},
     "output_type": "execute_result"
    }
   ],
   "source": [
    "merged_df.head(10)"
   ]
  },
  {
   "cell_type": "code",
   "execution_count": null,
   "id": "888e63ca",
   "metadata": {},
   "outputs": [],
   "source": [
    "# Indicate the columns to keep, Not all are needed\n",
    "columns_to_keep = [\"Vaccine-Political-GPT\", \"Political content\", \"generated_id\", \"text_x\"]\n",
    "\n",
    "# Dropping columns from the dataset\n",
    "merged_df = merged_df.drop(columns=[col for col in merged_df.columns if col not in columns_to_keep])"
   ]
  },
  {
   "cell_type": "code",
   "execution_count": 8,
   "id": "cacd99c9",
   "metadata": {},
   "outputs": [
    {
     "name": "stdout",
     "output_type": "stream",
     "text": [
      "Vaccine-Political-GPT\n",
      "text_x\n",
      "generated_id\n",
      "Political content\n"
     ]
    }
   ],
   "source": [
    "merged_df.head()"
   ]
  },
  {
   "cell_type": "code",
   "execution_count": null,
   "id": "0e0162eb",
   "metadata": {},
   "outputs": [],
   "source": [
    "#Save the merged dataset if so desired\n",
    "merged_df.to_csv('/Users/emilymckinley/SICSS_Project/Compare_POL.csv', index=False)"
   ]
  },
  {
   "cell_type": "code",
   "execution_count": 6,
   "id": "3a689784",
   "metadata": {},
   "outputs": [],
   "source": [
    "### ALTERNATIVE TO STEP 1: Upload dataset with CHATGPT and Human-coded data IF you did not merge above ### \n",
    "#df = pd.read_csv(\"/Users/emilymckinley/SICSS_Project/Compare_POL.csv\")"
   ]
  },
  {
   "cell_type": "code",
   "execution_count": null,
   "id": "b97360ea",
   "metadata": {},
   "outputs": [],
   "source": [
    "### STEP 2: ###\n",
    "# Calculate the classifier performance scores"
   ]
  },
  {
   "cell_type": "code",
   "execution_count": 9,
   "id": "5f829c2f",
   "metadata": {},
   "outputs": [
    {
     "name": "stdout",
     "output_type": "stream",
     "text": [
      "Precision: 0.25\n",
      "Recall: 0.3333333333333333\n",
      "F1 Score: 0.28571428571428575\n"
     ]
    }
   ],
   "source": [
    "# Assuming you have the true labels (human-coded) and predicted labels (machine-coded)\n",
    "\n",
    "true_labels = df[\"Political content\"] #change to appropriate column name\n",
    "predicted_labels = df[\"Vaccine-Political-GPT\"] #change to appropriate column name\n",
    "\n",
    "# Convert the labels to numeric format if they are stored as strings\n",
    "true_labels = true_labels.astype(int)\n",
    "predicted_labels = predicted_labels.astype(int)\n",
    "\n",
    "precision = precision_score(true_labels, predicted_labels)\n",
    "recall = recall_score(true_labels, predicted_labels)\n",
    "f1 = f1_score(true_labels, predicted_labels)\n",
    "\n",
    "print(\"Precision:\", precision)\n",
    "print(\"Recall:\", recall)\n",
    "print(\"F1 Score:\", f1)\n",
    "\n",
    "#Precision focuses on the accuracy of positive predictions, indicating how often the classifier \n",
    "#is correct when it predicts positive.\n",
    "#Recall focuses on the completeness of positive predictions, indicating how well the classifier \n",
    "#can identify positive instances.\n",
    "#F1 Combines precision and recall into a single value to provide a balanced evaluation of a classifier's performance\n"
   ]
  },
  {
   "cell_type": "markdown",
   "id": "4cf3925a",
   "metadata": {},
   "source": [
    "# Visualizing Confusion Matrix "
   ]
  },
  {
   "cell_type": "code",
   "execution_count": null,
   "id": "537cb795",
   "metadata": {},
   "outputs": [],
   "source": [
    "cm = confusion_matrix(true_labels, predicted_labels)"
   ]
  },
  {
   "cell_type": "code",
   "execution_count": null,
   "id": "69ce55d5",
   "metadata": {},
   "outputs": [],
   "source": [
    "# Create a figure and axes\n",
    "fig, ax = plt.subplots()\n",
    "\n",
    "# Plot the confusion matrix as an image\n",
    "im = ax.imshow(cm, interpolation='nearest', cmap=plt.cm.Blues)\n",
    "\n",
    "# Add colorbar\n",
    "cbar = ax.figure.colorbar(im, ax=ax)\n",
    "\n",
    "# Set the axis labels\n",
    "ax.set(xticks=np.arange(cm.shape[1]),\n",
    "       yticks=np.arange(cm.shape[0]),\n",
    "       xlabel='Predicted label',\n",
    "       ylabel='True label')\n",
    "\n",
    "# Rotate and align the x-axis labels\n",
    "plt.setp(ax.get_xticklabels(), rotation=45, ha=\"right\",\n",
    "         rotation_mode=\"anchor\")\n",
    "\n",
    "# Loop over the data and create text annotations\n",
    "for i in range(cm.shape[0]):\n",
    "    for j in range(cm.shape[1]):\n",
    "        ax.text(j, i, cm[i, j], ha=\"center\", va=\"center\", color=\"white\")\n",
    "\n",
    "# Add a title\n",
    "ax.set_title(\"Confusion Matrix for XXXXX Variable\")\n",
    "\n",
    "# Show the plot\n",
    "plt.show()"
   ]
  }
 ],
 "metadata": {
  "kernelspec": {
   "display_name": "Python 3 (ipykernel)",
   "language": "python",
   "name": "python3"
  },
  "language_info": {
   "codemirror_mode": {
    "name": "ipython",
    "version": 3
   },
   "file_extension": ".py",
   "mimetype": "text/x-python",
   "name": "python",
   "nbconvert_exporter": "python",
   "pygments_lexer": "ipython3",
   "version": "3.9.12"
  }
 },
 "nbformat": 4,
 "nbformat_minor": 5
}
